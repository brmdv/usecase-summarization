{
 "cells": [
  {
   "cell_type": "markdown",
   "id": "07a304c4-22b1-4025-87dd-6d3cd18a9600",
   "metadata": {},
   "source": [
    "# Abstractive summarizing with transformers"
   ]
  },
  {
   "cell_type": "code",
   "execution_count": 10,
   "id": "53308089-150b-4cbe-ba23-2a0c23f3a42d",
   "metadata": {},
   "outputs": [
    {
     "name": "stdout",
     "output_type": "stream",
     "text": [
      "Mr. Phileas Fogg lived, in 1872, at No. 7, Saville Row, Burlington Gardens, the house in which Sheridan died in 1814. He was one of the most noticeable members of the Reform Club, though he seemed always to avoid attracting attention; an enigmatical personage, about whom little was known, except that he was a polished man of the world. People said that he resembled Byron—at least that his head was Byronic; but he was a bearded, tranquil Byron, who might live on a thousand years without growing old.\n",
      "\n",
      "Certainly an Englishman, it was more doubtful whether Phileas Fogg was a Londoner. He was never seen on 'Change, nor at the Bank, nor in the counting-rooms of the \"City\"; no ships ever came into London docks of which he was the owner; he had no public employment; he had never been entered at any of the Inns of Court, either at the Temple, or Lincoln's Inn, or Gray's Inn; nor had his voice ever resounded in the Court of Chancery, or in the Exchequer, or the Queen's Bench, or the Ecclesiastical Courts. He certainly was not a manufacturer; nor was he a merchant or a gentleman farmer. His name was strange to the scientific and learned societies, and he never was known to take part in the sage deliberations of the Royal Institution or the London Institution, the Artisan's Association, or the Institution of Arts and Sciences. He belonged, in fact, to none of the numerous societies which swarm in the English capital, from the Harmonic to that of the Entomologists, founded mainly for the purpose of abolishing pernicious insects.\n"
     ]
    }
   ],
   "source": [
    "from book_reading import Book\n",
    "\n",
    "verne=Book(\"books/80days.html\", chapter_tag=\"h4\")\n",
    "\n",
    "chapter=[*verne.get_paragraphs(0)]\n",
    "text=\"\\n\\n\".join(chapter[0:2])\n",
    "print(text)"
   ]
  },
  {
   "cell_type": "markdown",
   "id": "2457fbb5-ae29-48b3-a9ff-69c618451b3d",
   "metadata": {},
   "source": [
    "## Transformers pipeline\n",
    "\n",
    "This is the general, all-default summary optoin from Huggngface. Let's see how good it is."
   ]
  },
  {
   "cell_type": "code",
   "execution_count": 8,
   "id": "f4c0795e-7cb8-4920-bb45-c2f848253214",
   "metadata": {},
   "outputs": [
    {
     "data": {
      "application/vnd.jupyter.widget-view+json": {
       "model_id": "c2fe674666bf4cb2a10bbe0810c5a77e",
       "version_major": 2,
       "version_minor": 0
      },
      "text/plain": [
       "Downloading:   0%|          | 0.00/242M [00:00<?, ?B/s]"
      ]
     },
     "metadata": {},
     "output_type": "display_data"
    },
    {
     "name": "stderr",
     "output_type": "stream",
     "text": [
      "All model checkpoint layers were used when initializing TFT5ForConditionalGeneration.\n",
      "\n",
      "All the layers of TFT5ForConditionalGeneration were initialized from the model checkpoint at t5-small.\n",
      "If your task is similar to the task the model of the checkpoint was trained on, you can already use TFT5ForConditionalGeneration for predictions without further training.\n"
     ]
    }
   ],
   "source": [
    "from transformers import pipeline\n",
    "\n",
    "summ_pl=pipeline(\"summarization\", framework=\"tf\")"
   ]
  },
  {
   "cell_type": "code",
   "execution_count": 13,
   "id": "094b270a-af0c-499f-97fb-00f9235bf7d0",
   "metadata": {},
   "outputs": [],
   "source": [
    "test_summ=summ_pl(text)"
   ]
  },
  {
   "cell_type": "code",
   "execution_count": 17,
   "id": "a6498730-4089-4113-b52a-c8ed2402e77a",
   "metadata": {},
   "outputs": [
    {
     "name": "stdout",
     "output_type": "stream",
     "text": [
      "he was never seen on 'Change, nor at the Bank, nor in the counting-rooms of the \"City\" he had no public employment; had never been entered at any of the Inns of Court, either at the Temple, or Lincoln's Inn, or Gray's inn . he never was known to take part in the sage deliberations of the Royal Institution or the London Institution, the Artisan's Association, or the Institution of Arts and Sciences .\n"
     ]
    }
   ],
   "source": [
    "for summ in test_summ:\n",
    "    print(summ[\"summary_text\"])"
   ]
  },
  {
   "cell_type": "markdown",
   "id": "6047c714-ccca-4572-9015-b534684b9016",
   "metadata": {},
   "source": [
    "Not very good. Maybe a bit longer?"
   ]
  },
  {
   "cell_type": "code",
   "execution_count": 18,
   "id": "4c188263-45b8-438a-b748-21b7cb841f31",
   "metadata": {},
   "outputs": [
    {
     "name": "stdout",
     "output_type": "stream",
     "text": [
      "he was one of the most noticeable members of the Reform Club, though he seemed always to avoid attracting attention . people said that he resembled Byron, at least that his head was Byronic . he might live on a thousand years without growing old .\n",
      "Phileas Fogg was never seen on 'Change, nor at the Bank, nor in the counting-rooms of the \"City\" he had no public employment; he was never entered at any of the Inns of Court, either at the Temple, or Lincoln's Inn, or Gray's inn . he never was known to take part in the sage deliberations of the Royal Institution or the London Institution, the Artisan's Association, or the Institution of Arts\n",
      "Phileas Fogg was a member of the reform, and that was all . he was also a reform member .\n",
      "the way in which he got admission to this exclusive club was simple enough . he was able to get admission to the exclusive club .\n",
      "he was recommended by the barings, with whom he had an open credit . his cheques were regularly paid at sight from his account current .\n",
      "Phileas Fogg was the last person to apply for the information . he was the least communicative of men . his daily habits were quite open to observation .\n"
     ]
    }
   ],
   "source": [
    "for summ in summ_pl(chapter[0:6]):\n",
    "    print(summ[\"summary_text\"])"
   ]
  },
  {
   "cell_type": "markdown",
   "id": "f356a097-1de6-4889-9db2-2eac12788c8c",
   "metadata": {},
   "source": [
    "## T5"
   ]
  },
  {
   "cell_type": "code",
   "execution_count": 2,
   "id": "5c0ffa75-b390-4a6a-82ad-56f00f727219",
   "metadata": {},
   "outputs": [],
   "source": [
    "from transformers import T5Tokenizer, T5Config, T5ForConditionalGeneration\n",
    "my_model = T5ForConditionalGeneration.from_pretrained('t5-small')\n",
    "tokenizer = T5Tokenizer.from_pretrained('t5-small')"
   ]
  },
  {
   "cell_type": "code",
   "execution_count": 3,
   "id": "17a49c39-c519-4e34-9a7d-30b0c47e10db",
   "metadata": {},
   "outputs": [],
   "source": [
    "text=\"summarize:\"+\"\\n\\n\".join(chapter[:5])"
   ]
  },
  {
   "cell_type": "code",
   "execution_count": 4,
   "id": "ce17dfcb-1d63-484c-a4e4-3827272d1715",
   "metadata": {},
   "outputs": [],
   "source": [
    "input_ids=tokenizer(text, return_tensors='pt').input_ids\n",
    "# input_ids"
   ]
  },
  {
   "cell_type": "code",
   "execution_count": 5,
   "id": "d776d4fd-1354-4c7e-93e7-bae36cc4a9dd",
   "metadata": {},
   "outputs": [
    {
     "data": {
      "text/plain": [
       "tensor([[    0,     3,    88,    47,     3,     9,  1144,    13,     8, 18490,\n",
       "          1949,     6,    11,   470,    47,   801,    12,   240,   294,    16]])"
      ]
     },
     "execution_count": 5,
     "metadata": {},
     "output_type": "execute_result"
    }
   ],
   "source": [
    "summary_ids = my_model.generate(input_ids)\n",
    "summary_ids"
   ]
  },
  {
   "cell_type": "code",
   "execution_count": 6,
   "id": "f44f05c7-5f8d-4897-a928-33db22cf6040",
   "metadata": {},
   "outputs": [
    {
     "name": "stdout",
     "output_type": "stream",
     "text": [
      "INFO:tensorflow:Enabling eager execution\n",
      "INFO:tensorflow:Enabling v2 tensorshape\n",
      "INFO:tensorflow:Enabling resource variables\n",
      "INFO:tensorflow:Enabling tensor equality\n",
      "INFO:tensorflow:Enabling control flow v2\n",
      "<pad> he was a member of the Reform Club, and never was known to take part in\n"
     ]
    }
   ],
   "source": [
    "t5_summary = tokenizer.decode(summary_ids[0])\n",
    "print(t5_summary)"
   ]
  },
  {
   "cell_type": "code",
   "execution_count": null,
   "id": "1f26228b-358e-43e4-a9b5-dfd7c084661d",
   "metadata": {},
   "outputs": [],
   "source": []
  }
 ],
 "metadata": {
  "kernelspec": {
   "display_name": "nlp",
   "language": "python",
   "name": "nlp"
  },
  "language_info": {
   "codemirror_mode": {
    "name": "ipython",
    "version": 3
   },
   "file_extension": ".py",
   "mimetype": "text/x-python",
   "name": "python",
   "nbconvert_exporter": "python",
   "pygments_lexer": "ipython3",
   "version": "3.9.4"
  }
 },
 "nbformat": 4,
 "nbformat_minor": 5
}
