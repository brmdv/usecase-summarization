{
 "cells": [
  {
   "cell_type": "markdown",
   "id": "4d6b954c-53f3-4b26-8499-75bf8267eef6",
   "metadata": {},
   "source": [
    "# Extractive summarization\n",
    "\n",
    "The simplest way to summarize a block text is by selecting the most important sentence. This is called *extractive summarization*. \n",
    "\n",
    "Let's try some algorithms on the first chapter of \"_A Scandal in Behomia_\"."
   ]
  },
  {
   "cell_type": "code",
   "execution_count": 1,
   "id": "cbae8ce1-2b43-44f5-bde7-5e8e26c8e1ae",
   "metadata": {},
   "outputs": [],
   "source": [
    "%load_ext autoreload\n",
    "%autoreload 2"
   ]
  },
  {
   "cell_type": "code",
   "execution_count": 46,
   "id": "c749d777-b9f7-4288-a26d-7f0b4eaa3812",
   "metadata": {},
   "outputs": [],
   "source": [
    "from book_reading import Book\n",
    "\n",
    "sherlock=Book(\"books/Sherlock.html\")\n",
    "\n",
    "first_chapter_p=[*sherlock.get_paragraphs(0,0)]"
   ]
  },
  {
   "cell_type": "code",
   "execution_count": 47,
   "id": "33741092-a160-48f9-b5b3-1be63919783d",
   "metadata": {},
   "outputs": [
    {
     "data": {
      "text/plain": [
       "'To Sherlock Holmes she is always the woman. I have seldom heard him mention her under any other name. In his eyes she eclipses and predominates the whole of her sex. It was not that he felt any emotion akin to love for Irene Adler. All emotions, and that one particularly, were abhorrent to his cold, precise but admirably balanced mind. He was, I take it, the most perfect reasoning and observing machine that the world has seen, but as a lover he would have placed himself in a false position. He never spoke of the softer passions, save with a gibe and a sneer. They were admirable things for the observer—excellent for drawing the veil from men’s motives and actions. But for the trained reasoner to admit such intrusions into his own delicate and finely adjusted temperament was to introduce a distracting factor which might throw a doubt upon all his mental results. Grit in a sensitive instrument, or a crack in one of his own high-power lenses, would not be more disturbing than a strong emotion in a nature such as his. And yet there was but one woman to him, and that woman was the late Irene Adler, of dubious and questionable memory.'"
      ]
     },
     "execution_count": 47,
     "metadata": {},
     "output_type": "execute_result"
    }
   ],
   "source": [
    "first_chapter_p[0]"
   ]
  },
  {
   "cell_type": "markdown",
   "id": "cb2e934c-b987-463b-9e44-96ea8f87d260",
   "metadata": {},
   "source": [
    "## TextRank\n",
    "\n",
    "A very naive algroithm, that just uses word frequency to decide the importance. "
   ]
  },
  {
   "cell_type": "code",
   "execution_count": 48,
   "id": "f252c47b-dfbb-40a5-bce9-186c74c9c21a",
   "metadata": {},
   "outputs": [],
   "source": [
    "import gensim\n",
    "from gensim.summarization import summarize"
   ]
  },
  {
   "cell_type": "code",
   "execution_count": 49,
   "id": "b93ee36a-937b-40f2-9a3f-441c0b4a50d9",
   "metadata": {},
   "outputs": [
    {
     "data": {
      "text/plain": [
       "'It was not that he felt any emotion akin to love for Irene Adler.\\nAll emotions, and that one particularly, were abhorrent to his cold, precise but admirably balanced mind.'"
      ]
     },
     "execution_count": 49,
     "metadata": {},
     "output_type": "execute_result"
    }
   ],
   "source": [
    "summarize(first_chapter_p[0])"
   ]
  },
  {
   "cell_type": "code",
   "execution_count": 50,
   "id": "ea0d35a0-919b-4058-8cdd-0c6cd4771ee1",
   "metadata": {},
   "outputs": [
    {
     "name": "stdout",
     "output_type": "stream",
     "text": [
      "I had seen little of Holmes lately.\n"
     ]
    }
   ],
   "source": [
    "print(summarize(first_chapter_p[1]))"
   ]
  },
  {
   "cell_type": "markdown",
   "id": "3235fcbb-af8a-49a0-be41-f0716758d8f0",
   "metadata": {},
   "source": [
    "What happens if we do this for every paragraphs? Will it be understandable?"
   ]
  },
  {
   "cell_type": "code",
   "execution_count": 53,
   "id": "e2416bc5-2de8-49cf-914f-6d7cb3912b70",
   "metadata": {},
   "outputs": [
    {
     "name": "stdout",
     "output_type": "stream",
     "text": [
      "It was not that he felt any emotion akin to love for Irene Adler.\n",
      "All emotions, and that one particularly, were abhorrent to his cold, precise but admirably balanced mind.\n",
      "I had seen little of Holmes lately.\n",
      "His rooms were brilliantly lit, and, even as I looked up, I saw his tall, spare figure pass twice in a dark silhouette against the blind.\n",
      "Now, I know that there are seventeen steps, because I have both seen and observed.\n",
      "Stay where you are.\n",
      "From the lower part of the face he appeared to be a man of strong character, with a thick, hanging lip, and a long, straight chin suggestive of resolution pushed to the length of obstinacy.\n",
      "Living in London—quite so!\n"
     ]
    }
   ],
   "source": [
    "for p in first_chapter_p:\n",
    "    try:\n",
    "        summary=summarize(p)\n",
    "        if len(summary)>0:\n",
    "            print(summary)\n",
    "    except:\n",
    "        continue"
   ]
  },
  {
   "cell_type": "markdown",
   "id": "9d2f675b-286a-4984-a340-1cd8405c6da2",
   "metadata": {},
   "source": [
    "What if we pass a full chapter?"
   ]
  },
  {
   "cell_type": "code",
   "execution_count": 54,
   "id": "359c9d7b-c2d9-4581-b89c-880de6a1c012",
   "metadata": {},
   "outputs": [
    {
     "name": "stdout",
     "output_type": "stream",
     "text": [
      "I had seen little of Holmes lately.\n",
      "My own complete happiness, and the home-centred interests which rise up around the man who first finds himself master of his own establishment, were sufficient to absorb all my attention, while Holmes, who loathed every form of society with his whole Bohemian soul, remained in our lodgings in Baker Street, buried among his old books, and alternating from week to week between cocaine and ambition, the drowsiness of the drug, and the fierce energy of his own keen nature.\n",
      "As I passed the well-remembered door, which must always be associated in my mind with my wooing, and with the dark incidents of the Study in Scarlet, I was seized with a keen desire to see Holmes again, and to know how he was employing his extraordinary powers.\n",
      "How do I know that you have been getting yourself very wet lately, and that you have a most clumsy and careless servant girl?” “My dear Holmes,” said I, “this is too much.\n",
      "“It is simplicity itself,” said he; “my eyes tell me that on the inside of your left shoe, just where the firelight strikes it, the leather is scored by six almost parallel cuts.\n",
      "Now, I know that there are seventeen steps, because I have both seen and observed.\n",
      "“There will call upon you to-night, at a quarter to eight o’clock,” it said, “a gentleman who desires to consult you upon a matter of the very deepest moment.\n",
      "It is peculiarly strong and stiff.” “Peculiar—that is the very word,” said Holmes.\n",
      "“The paper was made in Bohemia,” I said.\n",
      "It only remains, therefore, to discover what is wanted by this German who writes upon Bohemian paper and prefers wearing a mask to showing his face.\n",
      "There’s money in this case, Watson, if there is nothing else.” “I think that I had better go, Holmes.” “Not a bit, Doctor.\n",
      "“Come in!” said Holmes.\n",
      "“You had my note?” he asked with a deep harsh voice and a strongly marked German accent.\n",
      "“Pray take a seat,” said Holmes.\n",
      "I understand that this gentleman, your friend, is a man of honour and discretion, whom I may trust with a matter of the most extreme importance.\n",
      "“Then I must begin,” said he, “by binding you both to absolute secrecy for two years; at the end of that time the matter will be of no importance.\n",
      "At present it is not too much to say that it is of such weight it may have an influence upon European history.” “I promise,” said Holmes.\n",
      "“The august person who employs me wishes his agent to be unknown to you, and I may confess at once that the title by which I have just called myself is not exactly my own.” “I was aware of it,” said Holmes dryly.\n",
      "To speak plainly, the matter implicates the great House of Ormstein, hereditary kings of Bohemia.” “I was also aware of that,” murmured Holmes, settling himself down in his armchair and closing his eyes.\n",
      "Holmes slowly reopened his eyes and looked impatiently at his gigantic client.\n",
      "“If your Majesty would condescend to state your case,” he remarked, “I should be better able to advise you.” The man sprang from his chair and paced up and down the room in uncontrollable agitation.\n",
      "“Your Majesty had not spoken before I was aware that I was addressing Wilhelm Gottsreich Sigismond von Ormstein, Grand Duke of Cassel-Felstein, and hereditary King of Bohemia.” “But you can understand,” said our strange visitor, sitting down once more and passing his hand over his high white forehead, “you can understand that I am not accustomed to doing such business in my own person.\n",
      "I have come incognito from Prague for the purpose of consulting you.” “Then, pray consult,” said Holmes, shutting his eyes once more.\n",
      "The name is no doubt familiar to you.” “Kindly look her up in my index, Doctor,” murmured Holmes without opening his eyes.\n",
      "“Let me see!” said Holmes.\n",
      "Your Majesty, as I understand, became entangled with this young person, wrote her some compromising letters, and is now desirous of getting those letters back.” “Precisely so.\n",
      "But how—” “Was there a secret marriage?” “None.” “No legal papers or certificates?” “None.” “Then I fail to follow your Majesty.\n",
      "“It is quite a pretty little problem,” said he.\n",
      "A shadow of a doubt as to my conduct would bring the matter to an end.” “And Irene Adler?” “Threatens to send them the photograph.\n",
      "Rather than I should marry another woman, there are no lengths to which she would not go—none.” “You are sure that she has not sent it yet?” “I am sure.” “And why?” “Because she has said that she would send it on the day when the betrothal was publicly proclaimed.\n",
      "That will be next Monday.” “Oh, then we have three days yet,” said Holmes with a yawn.\n",
      "I shall be all anxiety.” “Then, as to money?” “You have carte blanche .” “Absolutely?” “I tell you that I would give one of the provinces of my kingdom to have that photograph.” “And for present expenses?” The King took a heavy chamois leather bag from under his cloak and laid it on the table.\n",
      "“There are three hundred pounds in gold and seven hundred in notes,” he said.\n",
      "Holmes scribbled a receipt upon a sheet of his note-book and handed it to him.\n",
      "“Was the photograph a cabinet?” “It was.” “Then, good-night, your Majesty, and I trust that we shall soon have some good news for you.\n"
     ]
    }
   ],
   "source": [
    "print(summarize(\" \".join([*first_chapter_p])))"
   ]
  },
  {
   "cell_type": "markdown",
   "id": "14de3859-6288-4857-a0af-6c6279498e6a",
   "metadata": {},
   "source": [
    "It is clear that is won't do for **litarature** texts, no matter how much we will fine-tune the options. Sentences rely heavily on the context, not to speak of dialogue, which makes no sence at all out-of-context.\n",
    "\n",
    "This will not be an easy task."
   ]
  },
  {
   "cell_type": "markdown",
   "id": "de919884-4ddb-4baf-ab7b-34748a73d5c8",
   "metadata": {},
   "source": [
    "## A bit more advanced: Sumy\n",
    "\n",
    "### Lexrank"
   ]
  },
  {
   "cell_type": "code",
   "execution_count": 55,
   "id": "ccd71ddd-3f7f-4288-8654-2afb97840e23",
   "metadata": {},
   "outputs": [],
   "source": [
    "from sumy.parsers.plaintext import PlaintextParser\n",
    "from sumy.nlp.tokenizers import Tokenizer\n",
    "from sumy.summarizers.lex_rank import LexRankSummarizer"
   ]
  },
  {
   "cell_type": "code",
   "execution_count": 70,
   "id": "56ed76e1-8cc6-488d-8ff0-bc8ff98e6bcb",
   "metadata": {},
   "outputs": [],
   "source": [
    "my_parser = PlaintextParser.from_string(\"\\n\\n\".join(first_chapter_p[:5]),Tokenizer('english'))"
   ]
  },
  {
   "cell_type": "code",
   "execution_count": 72,
   "id": "a10edb69-2246-4712-aebf-0ec53220348e",
   "metadata": {},
   "outputs": [
    {
     "name": "stdout",
     "output_type": "stream",
     "text": [
      "To Sherlock Holmes she is always the woman.\n",
      "I have seldom heard him mention her under any other name.\n",
      "It was not that he felt any emotion akin to love for Irene Adler.\n",
      "He was, I take it, the most perfect reasoning and observing machine that the world has seen, but as a lover he would have placed himself in a false position.\n",
      "Grit in a sensitive instrument, or a crack in one of his own high-power lenses, would not be more disturbing than a strong emotion in a nature such as his.\n",
      "And yet there was but one woman to him, and that woman was the late Irene Adler, of dubious and questionable memory.\n",
      "My own complete happiness, and the home-centred interests which rise up around the man who first finds himself master of his own establishment, were sufficient to absorb all my attention, while Holmes, who loathed every form of society with his whole Bohemian soul, remained in our lodgings in Baker Street, buried among his old books, and alternating from week to week between cocaine and ambition, the drowsiness of the drug, and the fierce energy of his own keen nature.\n",
      "From time to time I heard some vague account of his doings: of his summons to Odessa in the case of the Trepoff murder, of his clearing up of the singular tragedy of the Atkinson brothers at Trincomalee, and finally of the mission which he had accomplished so delicately and successfully for the reigning family of Holland.\n",
      "As I passed the well-remembered door, which must always be associated in my mind with my wooing, and with the dark incidents of the Study in Scarlet, I was seized with a keen desire to see Holmes again, and to know how he was employing his extraordinary powers.\n",
      "It seldom was; but he was glad, I think, to see me.\n"
     ]
    }
   ],
   "source": [
    "lex_rank_summarizer = LexRankSummarizer()\n",
    "for sentence in lex_rank_summarizer(my_parser.document, sentences_count=10):\n",
    "    print(sentence)"
   ]
  },
  {
   "cell_type": "code",
   "execution_count": 79,
   "id": "2a49fed1-e804-4e74-8fbe-5ad6d8b82b15",
   "metadata": {},
   "outputs": [
    {
     "name": "stdout",
     "output_type": "stream",
     "text": [
      "I have seldom heard him mention her under any other name.\n",
      "In his eyes she eclipses and predominates the whole of her sex.\n",
      "It was not that he felt any emotion akin to love for Irene Adler.\n",
      "All emotions, and that one particularly, were abhorrent to his cold, precise but admirably balanced mind.\n",
      "He was, I take it, the most perfect reasoning and observing machine that the world has seen, but as a lover he would have placed himself in a false position.\n",
      "But for the trained reasoner to admit such intrusions into his own delicate and finely adjusted temperament was to introduce a distracting factor which might throw a doubt upon all his mental results.\n",
      "My own complete happiness, and the home-centred interests which rise up around the man who first finds himself master of his own establishment, were sufficient to absorb all my attention, while Holmes, who loathed every form of society with his whole Bohemian soul, remained in our lodgings in Baker Street, buried among his old books, and alternating from week to week between cocaine and ambition, the drowsiness of the drug, and the fierce energy of his own keen nature.\n",
      "One night—it was on the twentieth of March, 1888—I was returning from a journey to a patient (for I had now returned to civil practice), when my way led me through Baker Street.\n",
      "As I passed the well-remembered door, which must always be associated in my mind with my wooing, and with the dark incidents of the Study in Scarlet, I was seized with a keen desire to see Holmes again, and to know how he was employing his extraordinary powers.\n",
      "Then he stood before the fire and looked me over in his singular introspective fashion.\n"
     ]
    }
   ],
   "source": [
    "from sumy.summarizers.lsa import LsaSummarizer\n",
    "\n",
    "lsa_summarizer=LsaSummarizer()\n",
    "for sentence in lsa_summarizer(my_parser.document, sentences_count=10):\n",
    "    print(sentence)"
   ]
  },
  {
   "cell_type": "code",
   "execution_count": 81,
   "id": "f29df147-1691-444a-b4f3-2cf14f39b365",
   "metadata": {},
   "outputs": [
    {
     "name": "stdout",
     "output_type": "stream",
     "text": [
      "He was, I take it, the most perfect reasoning and observing machine that the world has seen, but as a lover he would have placed himself in a false position.\n",
      "Grit in a sensitive instrument, or a crack in one of his own high-power lenses, would not be more disturbing than a strong emotion in a nature such as his.\n",
      "And yet there was but one woman to him, and that woman was the late Irene Adler, of dubious and questionable memory.\n",
      "My own complete happiness, and the home-centred interests which rise up around the man who first finds himself master of his own establishment, were sufficient to absorb all my attention, while Holmes, who loathed every form of society with his whole Bohemian soul, remained in our lodgings in Baker Street, buried among his old books, and alternating from week to week between cocaine and ambition, the drowsiness of the drug, and the fierce energy of his own keen nature.\n",
      "He was still, as ever, deeply attracted by the study of crime, and occupied his immense faculties and extraordinary powers of observation in following out those clues, and clearing up those mysteries which had been abandoned as hopeless by the official police.\n",
      "From time to time I heard some vague account of his doings: of his summons to Odessa in the case of the Trepoff murder, of his clearing up of the singular tragedy of the Atkinson brothers at Trincomalee, and finally of the mission which he had accomplished so delicately and successfully for the reigning family of Holland.\n",
      "Beyond these signs of his activity, however, which I merely shared with all the readers of the daily press, I knew little of my former friend and companion.\n",
      "One night—it was on the twentieth of March, 1888—I was returning from a journey to a patient (for I had now returned to civil practice), when my way led me through Baker Street.\n",
      "As I passed the well-remembered door, which must always be associated in my mind with my wooing, and with the dark incidents of the Study in Scarlet, I was seized with a keen desire to see Holmes again, and to know how he was employing his extraordinary powers.\n",
      "It seldom was; but he was glad, I think, to see me.\n"
     ]
    }
   ],
   "source": [
    "from sumy.summarizers.luhn import LuhnSummarizer\n",
    "luhn_summarizer=LuhnSummarizer()\n",
    "for sentence in luhn_summarizer(my_parser.document, sentences_count=10):\n",
    "    print(sentence)"
   ]
  },
  {
   "cell_type": "code",
   "execution_count": null,
   "id": "ef920ca5-5316-4286-afe2-c1aff9e2b0e7",
   "metadata": {},
   "outputs": [],
   "source": []
  }
 ],
 "metadata": {
  "kernelspec": {
   "display_name": "nlp",
   "language": "python",
   "name": "nlp"
  },
  "language_info": {
   "codemirror_mode": {
    "name": "ipython",
    "version": 3
   },
   "file_extension": ".py",
   "mimetype": "text/x-python",
   "name": "python",
   "nbconvert_exporter": "python",
   "pygments_lexer": "ipython3",
   "version": "3.9.4"
  }
 },
 "nbformat": 4,
 "nbformat_minor": 5
}
